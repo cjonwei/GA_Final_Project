{
 "cells": [
  {
   "cell_type": "markdown",
   "metadata": {},
   "source": [
    "# Final Project Exploratory Data Analysis\n",
    "\n",
    "Do your EDA in this notebook!"
   ]
  },
  {
   "cell_type": "code",
   "execution_count": 1,
   "metadata": {},
   "outputs": [],
   "source": [
    "import pandas as pd\n",
    "import numpy as np\n",
    "import matplotlib.pyplot as plt\n",
    "import seaborn as sns\n",
    "%matplotlib inline"
   ]
  },
  {
   "cell_type": "code",
   "execution_count": 2,
   "metadata": {},
   "outputs": [
    {
     "data": {
      "text/html": [
       "<div>\n",
       "<style scoped>\n",
       "    .dataframe tbody tr th:only-of-type {\n",
       "        vertical-align: middle;\n",
       "    }\n",
       "\n",
       "    .dataframe tbody tr th {\n",
       "        vertical-align: top;\n",
       "    }\n",
       "\n",
       "    .dataframe thead th {\n",
       "        text-align: right;\n",
       "    }\n",
       "</style>\n",
       "<table border=\"1\" class=\"dataframe\">\n",
       "  <thead>\n",
       "    <tr style=\"text-align: right;\">\n",
       "      <th></th>\n",
       "      <th>show_id</th>\n",
       "      <th>type</th>\n",
       "      <th>title</th>\n",
       "      <th>director</th>\n",
       "      <th>cast</th>\n",
       "      <th>country</th>\n",
       "      <th>date_added</th>\n",
       "      <th>release_year</th>\n",
       "      <th>rating</th>\n",
       "      <th>duration</th>\n",
       "      <th>listed_in</th>\n",
       "      <th>description</th>\n",
       "    </tr>\n",
       "  </thead>\n",
       "  <tbody>\n",
       "    <tr>\n",
       "      <th>0</th>\n",
       "      <td>s1</td>\n",
       "      <td>TV Show</td>\n",
       "      <td>3%</td>\n",
       "      <td>NaN</td>\n",
       "      <td>João Miguel, Bianca Comparato, Michel Gomes, R...</td>\n",
       "      <td>Brazil</td>\n",
       "      <td>August 14, 2020</td>\n",
       "      <td>2020</td>\n",
       "      <td>TV-MA</td>\n",
       "      <td>4 Seasons</td>\n",
       "      <td>International TV Shows, TV Dramas, TV Sci-Fi &amp;...</td>\n",
       "      <td>In a future where the elite inhabit an island ...</td>\n",
       "    </tr>\n",
       "    <tr>\n",
       "      <th>1</th>\n",
       "      <td>s2</td>\n",
       "      <td>Movie</td>\n",
       "      <td>7:19</td>\n",
       "      <td>Jorge Michel Grau</td>\n",
       "      <td>Demián Bichir, Héctor Bonilla, Oscar Serrano, ...</td>\n",
       "      <td>Mexico</td>\n",
       "      <td>December 23, 2016</td>\n",
       "      <td>2016</td>\n",
       "      <td>TV-MA</td>\n",
       "      <td>93 min</td>\n",
       "      <td>Dramas, International Movies</td>\n",
       "      <td>After a devastating earthquake hits Mexico Cit...</td>\n",
       "    </tr>\n",
       "    <tr>\n",
       "      <th>2</th>\n",
       "      <td>s3</td>\n",
       "      <td>Movie</td>\n",
       "      <td>23:59</td>\n",
       "      <td>Gilbert Chan</td>\n",
       "      <td>Tedd Chan, Stella Chung, Henley Hii, Lawrence ...</td>\n",
       "      <td>Singapore</td>\n",
       "      <td>December 20, 2018</td>\n",
       "      <td>2011</td>\n",
       "      <td>R</td>\n",
       "      <td>78 min</td>\n",
       "      <td>Horror Movies, International Movies</td>\n",
       "      <td>When an army recruit is found dead, his fellow...</td>\n",
       "    </tr>\n",
       "    <tr>\n",
       "      <th>3</th>\n",
       "      <td>s4</td>\n",
       "      <td>Movie</td>\n",
       "      <td>9</td>\n",
       "      <td>Shane Acker</td>\n",
       "      <td>Elijah Wood, John C. Reilly, Jennifer Connelly...</td>\n",
       "      <td>United States</td>\n",
       "      <td>November 16, 2017</td>\n",
       "      <td>2009</td>\n",
       "      <td>PG-13</td>\n",
       "      <td>80 min</td>\n",
       "      <td>Action &amp; Adventure, Independent Movies, Sci-Fi...</td>\n",
       "      <td>In a postapocalyptic world, rag-doll robots hi...</td>\n",
       "    </tr>\n",
       "    <tr>\n",
       "      <th>4</th>\n",
       "      <td>s5</td>\n",
       "      <td>Movie</td>\n",
       "      <td>21</td>\n",
       "      <td>Robert Luketic</td>\n",
       "      <td>Jim Sturgess, Kevin Spacey, Kate Bosworth, Aar...</td>\n",
       "      <td>United States</td>\n",
       "      <td>January 1, 2020</td>\n",
       "      <td>2008</td>\n",
       "      <td>PG-13</td>\n",
       "      <td>123 min</td>\n",
       "      <td>Dramas</td>\n",
       "      <td>A brilliant group of students become card-coun...</td>\n",
       "    </tr>\n",
       "  </tbody>\n",
       "</table>\n",
       "</div>"
      ],
      "text/plain": [
       "  show_id     type  title           director  \\\n",
       "0      s1  TV Show     3%                NaN   \n",
       "1      s2    Movie   7:19  Jorge Michel Grau   \n",
       "2      s3    Movie  23:59       Gilbert Chan   \n",
       "3      s4    Movie      9        Shane Acker   \n",
       "4      s5    Movie     21     Robert Luketic   \n",
       "\n",
       "                                                cast        country  \\\n",
       "0  João Miguel, Bianca Comparato, Michel Gomes, R...         Brazil   \n",
       "1  Demián Bichir, Héctor Bonilla, Oscar Serrano, ...         Mexico   \n",
       "2  Tedd Chan, Stella Chung, Henley Hii, Lawrence ...      Singapore   \n",
       "3  Elijah Wood, John C. Reilly, Jennifer Connelly...  United States   \n",
       "4  Jim Sturgess, Kevin Spacey, Kate Bosworth, Aar...  United States   \n",
       "\n",
       "          date_added  release_year rating   duration  \\\n",
       "0    August 14, 2020          2020  TV-MA  4 Seasons   \n",
       "1  December 23, 2016          2016  TV-MA     93 min   \n",
       "2  December 20, 2018          2011      R     78 min   \n",
       "3  November 16, 2017          2009  PG-13     80 min   \n",
       "4    January 1, 2020          2008  PG-13    123 min   \n",
       "\n",
       "                                           listed_in  \\\n",
       "0  International TV Shows, TV Dramas, TV Sci-Fi &...   \n",
       "1                       Dramas, International Movies   \n",
       "2                Horror Movies, International Movies   \n",
       "3  Action & Adventure, Independent Movies, Sci-Fi...   \n",
       "4                                             Dramas   \n",
       "\n",
       "                                         description  \n",
       "0  In a future where the elite inhabit an island ...  \n",
       "1  After a devastating earthquake hits Mexico Cit...  \n",
       "2  When an army recruit is found dead, his fellow...  \n",
       "3  In a postapocalyptic world, rag-doll robots hi...  \n",
       "4  A brilliant group of students become card-coun...  "
      ]
     },
     "execution_count": 2,
     "metadata": {},
     "output_type": "execute_result"
    }
   ],
   "source": [
    "netflix_titles = pd.read_csv('data/netflix_titles.csv')\n",
    "netflix_titles.head()"
   ]
  },
  {
   "cell_type": "code",
   "execution_count": 3,
   "metadata": {},
   "outputs": [
    {
     "data": {
      "text/plain": [
       "(7787, 12)"
      ]
     },
     "execution_count": 3,
     "metadata": {},
     "output_type": "execute_result"
    }
   ],
   "source": [
    "netflix_titles.shape"
   ]
  },
  {
   "cell_type": "code",
   "execution_count": 4,
   "metadata": {},
   "outputs": [
    {
     "name": "stdout",
     "output_type": "stream",
     "text": [
      "<class 'pandas.core.frame.DataFrame'>\n",
      "RangeIndex: 7787 entries, 0 to 7786\n",
      "Data columns (total 12 columns):\n",
      " #   Column        Non-Null Count  Dtype \n",
      "---  ------        --------------  ----- \n",
      " 0   show_id       7787 non-null   object\n",
      " 1   type          7787 non-null   object\n",
      " 2   title         7787 non-null   object\n",
      " 3   director      5398 non-null   object\n",
      " 4   cast          7069 non-null   object\n",
      " 5   country       7280 non-null   object\n",
      " 6   date_added    7777 non-null   object\n",
      " 7   release_year  7787 non-null   int64 \n",
      " 8   rating        7780 non-null   object\n",
      " 9   duration      7787 non-null   object\n",
      " 10  listed_in     7787 non-null   object\n",
      " 11  description   7787 non-null   object\n",
      "dtypes: int64(1), object(11)\n",
      "memory usage: 730.2+ KB\n"
     ]
    }
   ],
   "source": [
    "netflix_titles.info()"
   ]
  },
  {
   "cell_type": "markdown",
   "metadata": {},
   "source": [
    "# Cleaning the Data"
   ]
  },
  {
   "cell_type": "markdown",
   "metadata": {},
   "source": [
    "Country: Some shows have (1) multiple countries and (2) some shows have Nan as values for countries.\n",
    "\n",
    "For 1, we will select the first country within the list.\n",
    "\n",
    "For 2, we will insert unknown for these shows."
   ]
  },
  {
   "cell_type": "code",
   "execution_count": 5,
   "metadata": {},
   "outputs": [
    {
     "data": {
      "text/plain": [
       "array(['Brazil', 'Mexico', 'Singapore', 'United States', 'Turkey',\n",
       "       'Egypt', 'India', 'Poland', 'Thailand', 'Nigeria', 'Unknown',\n",
       "       'Norway', 'United Kingdom', 'Japan', 'South Korea', 'Italy',\n",
       "       'Canada', 'Indonesia', 'Romania', 'Spain', 'Iceland',\n",
       "       'South Africa', 'France', 'Portugal', 'Hong Kong', 'Argentina',\n",
       "       'Germany', 'Denmark', 'Kenya', 'New Zealand', 'Pakistan',\n",
       "       'Australia', 'China', 'Taiwan', 'Netherlands', 'Philippines',\n",
       "       'United Arab Emirates', 'Iran', 'Israel', 'Uruguay', 'Bulgaria',\n",
       "       'Mauritius', 'Lebanon', 'Colombia', 'Soviet Union', 'Sweden',\n",
       "       'Malaysia', 'Ireland', 'Serbia', 'Finland', 'Peru', 'Chile',\n",
       "       'Ghana', 'Saudi Arabia', 'Namibia', 'Russia', 'Belgium', 'Vietnam',\n",
       "       'Kuwait', 'Czech Republic', 'Zimbabwe', 'Hungary', 'Venezuela',\n",
       "       'Cambodia', 'Austria', 'West Germany', 'Slovenia', 'Switzerland',\n",
       "       'Jordan', 'Bangladesh', 'Georgia', 'Puerto Rico', 'Senegal',\n",
       "       'Guatemala', 'Ukraine', 'Jamaica', 'Belarus', 'Cyprus', 'Greece',\n",
       "       'Paraguay', 'Croatia', 'Somalia'], dtype=object)"
      ]
     },
     "execution_count": 5,
     "metadata": {},
     "output_type": "execute_result"
    }
   ],
   "source": [
    "netflix_titles['country'] = netflix_titles['country'].fillna('Unknown')\n",
    "netflix_titles['country'] = [countries[0] for countries in netflix_titles['country'].str.split(',')]\n",
    "netflix_titles['country'].unique()"
   ]
  },
  {
   "cell_type": "code",
   "execution_count": 6,
   "metadata": {},
   "outputs": [
    {
     "data": {
      "text/plain": [
       "array(['TV-MA', 'R', 'PG-13', 'TV-14', 'TV-PG', 'UR', 'TV-G', 'TV-Y',\n",
       "       'TV-Y7', 'PG', 'G', 'NC-17', 'TV-Y7-FV'], dtype=object)"
      ]
     },
     "execution_count": 6,
     "metadata": {},
     "output_type": "execute_result"
    }
   ],
   "source": [
    "netflix_titles['rating'] = netflix_titles['rating'].replace('NR','UR')\n",
    "netflix_titles['rating'] = netflix_titles['rating'].fillna('UR')\n",
    "netflix_titles['rating'].unique()"
   ]
  },
  {
   "cell_type": "markdown",
   "metadata": {},
   "source": [
    "Duration: The duration for TV Shows are in Seasons, but it is in min for Movies. Only the number of each row will selected:"
   ]
  },
  {
   "cell_type": "code",
   "execution_count": 7,
   "metadata": {},
   "outputs": [
    {
     "data": {
      "text/plain": [
       "0         4\n",
       "1        93\n",
       "2        78\n",
       "3        80\n",
       "4       123\n",
       "       ... \n",
       "7782     99\n",
       "7783    111\n",
       "7784     44\n",
       "7785      1\n",
       "7786     90\n",
       "Name: duration, Length: 7787, dtype: int64"
      ]
     },
     "execution_count": 7,
     "metadata": {},
     "output_type": "execute_result"
    }
   ],
   "source": [
    "netflix_titles['duration'] = [int(duration[0]) for duration in netflix_titles['duration'].str.split(' ')]\n",
    "netflix_titles['duration']"
   ]
  },
  {
   "cell_type": "markdown",
   "metadata": {},
   "source": [
    "Director and Cast: Note that some of cells in the Director, Cast and Date_Added columns are empty, will fill them with Unknown."
   ]
  },
  {
   "cell_type": "code",
   "execution_count": 8,
   "metadata": {},
   "outputs": [],
   "source": [
    "netflix_titles['director'] = netflix_titles['director'].fillna('Unknown')\n",
    "netflix_titles['cast'] = netflix_titles['cast'].fillna('Unknown')"
   ]
  },
  {
   "cell_type": "markdown",
   "metadata": {},
   "source": [
    "Date added: Dont really need to know month and date of when the show was added to their library - lets just focus on year."
   ]
  },
  {
   "cell_type": "code",
   "execution_count": 9,
   "metadata": {},
   "outputs": [],
   "source": [
    "netflix_titles[\"year\"]= netflix_titles.date_added.apply(lambda x: str(x).split(\",\")[-1])"
   ]
  },
  {
   "cell_type": "code",
   "execution_count": 10,
   "metadata": {},
   "outputs": [
    {
     "data": {
      "text/plain": [
       " 2019    2153\n",
       " 2020    2009\n",
       " 2018    1685\n",
       " 2017    1225\n",
       " 2016     443\n",
       " 2021     117\n",
       " 2015      88\n",
       " 2014      25\n",
       " 2011      13\n",
       " 2013      11\n",
       "nan        10\n",
       " 2012       3\n",
       " 2009       2\n",
       " 2008       2\n",
       " 2010       1\n",
       "Name: year, dtype: int64"
      ]
     },
     "execution_count": 10,
     "metadata": {},
     "output_type": "execute_result"
    }
   ],
   "source": [
    "netflix_titles[\"year\"].value_counts()"
   ]
  },
  {
   "cell_type": "markdown",
   "metadata": {},
   "source": [
    "Date_added: Going to fill missing values within Date_Added with Unknown"
   ]
  },
  {
   "cell_type": "code",
   "execution_count": 11,
   "metadata": {},
   "outputs": [],
   "source": [
    "netflix_titles.date_added.fillna(\"Unknown\",inplace= True)"
   ]
  },
  {
   "cell_type": "code",
   "execution_count": 12,
   "metadata": {},
   "outputs": [
    {
     "data": {
      "text/plain": [
       "show_id         0\n",
       "type            0\n",
       "title           0\n",
       "director        0\n",
       "cast            0\n",
       "country         0\n",
       "date_added      0\n",
       "release_year    0\n",
       "rating          0\n",
       "duration        0\n",
       "listed_in       0\n",
       "description     0\n",
       "year            0\n",
       "dtype: int64"
      ]
     },
     "execution_count": 12,
     "metadata": {},
     "output_type": "execute_result"
    }
   ],
   "source": [
    "netflix_titles.isnull().sum()"
   ]
  },
  {
   "cell_type": "code",
   "execution_count": 13,
   "metadata": {},
   "outputs": [
    {
     "data": {
      "text/plain": [
       "<bound method Series.unique of 0          s1\n",
       "1          s2\n",
       "2          s3\n",
       "3          s4\n",
       "4          s5\n",
       "        ...  \n",
       "7782    s7783\n",
       "7783    s7784\n",
       "7784    s7785\n",
       "7785    s7786\n",
       "7786    s7787\n",
       "Name: show_id, Length: 7787, dtype: object>"
      ]
     },
     "execution_count": 13,
     "metadata": {},
     "output_type": "execute_result"
    }
   ],
   "source": [
    "netflix_titles['show_id'].unique\n",
    "#There are 7787 different shows within the library (note that TV series Seasons are regarded as 1)"
   ]
  },
  {
   "cell_type": "markdown",
   "metadata": {},
   "source": [
    "## What i know\n",
    "(1) Total number of shows in the Netflix library - split by TV Shows and Movies.\n",
    "\n",
    "(2) The categories these shows have been placed into and their respective ratings.\n",
    "\n",
    "(3) The duration of these shows.\n",
    "\n",
    "(4) When these shows were released and when they were added into the library.\n",
    "\n",
    "(5) The country these shows were from.\n",
    "\n",
    "(6) A short description of these shows.\n",
    "\n",
    "## What i do not know\n",
    "(1) How good these movies are.\n",
    "\n",
    "(2) How many views these movies have gotten since getting into the library?\n",
    "\n",
    "(3) How much these movies had cost to be produced?"
   ]
  },
  {
   "cell_type": "markdown",
   "metadata": {},
   "source": [
    "# Problem Statements\n",
    "(1) What is the breakdown of TV Shows and Movies on Netflix?\n",
    "\n",
    "(2) How many shows have Netflix added onto thier library over the years?\n",
    "\n",
    "(3) What is the breakdown of shows by year of release?\n",
    "\n",
    "(4) How has Netflix curated their offerings - by categories and by ratings? Who does their library appeal to?\n",
    "\n",
    "(5) What is the average length of a show on Netflix? - for TV Shows (by Seasons) for Movies (by minutes)\n",
    "\n",
    "(6) Where does most of Netflix's show come from?\n",
    "\n",
    "(7) Who are the top directors contributing to Netflix's library"
   ]
  },
  {
   "cell_type": "markdown",
   "metadata": {},
   "source": [
    "## Answering Point 1:"
   ]
  },
  {
   "cell_type": "code",
   "execution_count": 14,
   "metadata": {},
   "outputs": [
    {
     "data": {
      "text/plain": [
       "Movie      5377\n",
       "TV Show    2410\n",
       "Name: type, dtype: int64"
      ]
     },
     "execution_count": 14,
     "metadata": {},
     "output_type": "execute_result"
    }
   ],
   "source": [
    "netflix_titles.type.value_counts()"
   ]
  },
  {
   "cell_type": "markdown",
   "metadata": {},
   "source": [
    "Netflix, Inc. is an American over-the-top (\"**OTT**\") content platform and production company that has a total content library of 2,410 TV Shows and 5,377 movies."
   ]
  },
  {
   "cell_type": "code",
   "execution_count": 15,
   "metadata": {},
   "outputs": [
    {
     "data": {
      "image/png": "[encoded data removed]",
      "text/plain": [
       "<Figure size 360x360 with 1 Axes>"
      ]
     },
     "metadata": {},
     "output_type": "display_data"
    }
   ],
   "source": [
    "#What is the breakdown of TV Shows and Movies on Netflix?\n",
    "plt.figure(figsize=(5,5))\n",
    "plt.pie(netflix_titles['type'].value_counts(),\n",
    "        labels=netflix_titles['type'].value_counts().index,\n",
    "        explode=[0.05, 0],\n",
    "        autopct='%1.2f%%',\n",
    "        colors=['Pink','Grey'])\n",
    "plt.title(\"Split Between Movies and TV Shows on Netflix's Library\");\n"
   ]
  },
  {
   "cell_type": "markdown",
   "metadata": {},
   "source": [
    "The pie chart above shows that Netflix offers more options for Movies as compared to TV Shows with the number of Movies being more than 2x the number of TV Shows on Netflix."
   ]
  },
  {
   "cell_type": "markdown",
   "metadata": {},
   "source": [
    "## Answering Point 2:"
   ]
  },
  {
   "cell_type": "code",
   "execution_count": 16,
   "metadata": {},
   "outputs": [
    {
     "data": {
      "image/png": "[encoded data removed]",
      "text/plain": [
       "<Figure size 576x432 with 1 Axes>"
      ]
     },
     "metadata": {
      "needs_background": "light"
     },
     "output_type": "display_data"
    }
   ],
   "source": [
    "#How many shows have Netflix added onto thier library over the years?\n",
    "plt.figure(figsize=(8,6))\n",
    "netflix_titles['year'].value_counts().sort_index().plot(kind='bar')\n",
    "plt.xlabel('Year')\n",
    "plt.ylabel('No. of Shows')\n",
    "plt.title('Number of Shows added to Library by Year');"
   ]
  },
  {
   "cell_type": "code",
   "execution_count": 17,
   "metadata": {},
   "outputs": [
    {
     "data": {
      "text/plain": [
       "year   type   \n",
       " 2008  Movie         1\n",
       "       TV Show       1\n",
       " 2009  Movie         2\n",
       " 2010  Movie         1\n",
       " 2011  Movie        13\n",
       " 2012  Movie         3\n",
       " 2013  Movie         6\n",
       "       TV Show       5\n",
       " 2014  Movie        19\n",
       "       TV Show       6\n",
       " 2015  Movie        58\n",
       "       TV Show      30\n",
       " 2016  Movie       258\n",
       "       TV Show     185\n",
       " 2017  Movie       864\n",
       "       TV Show     361\n",
       " 2018  Movie      1255\n",
       "       TV Show     430\n",
       " 2019  Movie      1497\n",
       "       TV Show     656\n",
       " 2020  Movie      1312\n",
       "       TV Show     697\n",
       " 2021  Movie        88\n",
       "       TV Show      29\n",
       "nan    TV Show      10\n",
       "Name: type, dtype: int64"
      ]
     },
     "execution_count": 17,
     "metadata": {},
     "output_type": "execute_result"
    }
   ],
   "source": [
    "netflix_titles.groupby('year').type.value_counts()"
   ]
  },
  {
   "cell_type": "code",
   "execution_count": 18,
   "metadata": {},
   "outputs": [
    {
     "data": {
      "image/png": "[encoded data removed]",
      "text/plain": [
       "<Figure size 936x576 with 1 Axes>"
      ]
     },
     "metadata": {
      "needs_background": "light"
     },
     "output_type": "display_data"
    }
   ],
   "source": [
    "plt.figure(figsize=(13,8)) #Plotting the values obtained above\n",
    "sns.countplot(x = netflix_titles['year'], hue = netflix_titles['type'])\n",
    "plt.xlabel('By Years')\n",
    "plt.ylabel('No. of Shows added by Netflix')\n",
    "plt.title('Number of Shows Added by Netflix by Years');"
   ]
  },
  {
   "cell_type": "markdown",
   "metadata": {},
   "source": [
    "The above shows that Netflix started to aggressively add onto their library starting 2017. With the bulk of their content being added between 2017-2020."
   ]
  },
  {
   "cell_type": "markdown",
   "metadata": {},
   "source": [
    "## Answering Point 3"
   ]
  },
  {
   "cell_type": "code",
   "execution_count": 19,
   "metadata": {},
   "outputs": [
    {
     "data": {
      "image/png": "[encoded data removed]",
      "text/plain": [
       "<Figure size 576x432 with 1 Axes>"
      ]
     },
     "metadata": {
      "needs_background": "light"
     },
     "output_type": "display_data"
    }
   ],
   "source": [
    "#What is the breakdown of shows by year of release?\n",
    "plt.figure(figsize=(8,6))\n",
    "netflix_titles['release_year'].value_counts().sort_index().plot()\n",
    "plt.xlabel('Year')\n",
    "plt.ylabel('No. of Shows')\n",
    "plt.title('Show Split by Years');"
   ]
  },
  {
   "cell_type": "code",
   "execution_count": 20,
   "metadata": {},
   "outputs": [
    {
     "data": {
      "image/png": "[encoded data removed]",
      "text/plain": [
       "<Figure size 936x576 with 1 Axes>"
      ]
     },
     "metadata": {
      "needs_background": "light"
     },
     "output_type": "display_data"
    }
   ],
   "source": [
    "plt.figure(figsize=(13,8))\n",
    "sns.countplot(x=netflix_titles['release_year'],hue=netflix_titles['type'])\n",
    "plt.xlabel(\"By Years\")\n",
    "plt.ylabel(\"No. of Shows in Netflix's Library\")\n",
    "plt.title(\"Release Years of Shows within Netflix's Library\");"
   ]
  },
  {
   "cell_type": "code",
   "execution_count": 21,
   "metadata": {},
   "outputs": [],
   "source": [
    "def release(release_date):\n",
    "    if 1960<=release_date<=1990:\n",
    "        return 'Very old'\n",
    "    elif 1990<release_date<=2000:\n",
    "        return 'Old'\n",
    "    elif 2000<release_date<=2015:\n",
    "        return 'Early 21st century'\n",
    "    elif 2015<release_date<=2021:\n",
    "        return 'New'\n",
    "    else:\n",
    "        return None\n",
    "\n",
    "netflix_titles['Movie_release_type'] = netflix_titles['release_year'].apply(release)"
   ]
  },
  {
   "cell_type": "code",
   "execution_count": 22,
   "metadata": {},
   "outputs": [
    {
     "name": "stdout",
     "output_type": "stream",
     "text": [
      "Movie_release_type  type   \n",
      "Early 21st century  Movie      1820\n",
      "                    TV Show     574\n",
      "New                 Movie      3125\n",
      "                    TV Show    1785\n",
      "Old                 Movie       207\n",
      "                    TV Show      32\n",
      "Very old            Movie       201\n",
      "                    TV Show      17\n",
      "Name: type, dtype: int64\n"
     ]
    },
    {
     "data": {
      "image/png": "[encoded data removed]",
      "text/plain": [
       "<Figure size 864x432 with 1 Axes>"
      ]
     },
     "metadata": {},
     "output_type": "display_data"
    }
   ],
   "source": [
    "print(netflix_titles.groupby('Movie_release_type').type.value_counts())\n",
    "sns.set_style('whitegrid')\n",
    "plt.figure(figsize=(12,6))\n",
    "sns.countplot(x=netflix_titles['Movie_release_type'],hue=netflix_titles['type'])\n",
    "plt.xlabel('Release Types')\n",
    "plt.ylabel('Number of Shows')\n",
    "plt.title('Netflix Content Age');"
   ]
  },
  {
   "cell_type": "markdown",
   "metadata": {},
   "source": [
    "The bulk of the content available on Netflix has been released in the period 2000-2021. If we see the graph from close, it can be seen that the concept of TV Shows were also not very prominent before 2000. \n",
    "\n",
    "It started gaining some popularity in the first decade of 21st century."
   ]
  },
  {
   "cell_type": "code",
   "execution_count": 40,
   "metadata": {},
   "outputs": [
    {
     "data": {
      "text/html": [
       "<div>\n",
       "<style scoped>\n",
       "    .dataframe tbody tr th:only-of-type {\n",
       "        vertical-align: middle;\n",
       "    }\n",
       "\n",
       "    .dataframe tbody tr th {\n",
       "        vertical-align: top;\n",
       "    }\n",
       "\n",
       "    .dataframe thead th {\n",
       "        text-align: right;\n",
       "    }\n",
       "</style>\n",
       "<table border=\"1\" class=\"dataframe\">\n",
       "  <thead>\n",
       "    <tr style=\"text-align: right;\">\n",
       "      <th></th>\n",
       "      <th>Release year</th>\n",
       "      <th>Title</th>\n",
       "    </tr>\n",
       "  </thead>\n",
       "  <tbody>\n",
       "    <tr>\n",
       "      <th>1</th>\n",
       "      <td>1925</td>\n",
       "      <td>Pioneers: First Women Filmmakers*</td>\n",
       "    </tr>\n",
       "    <tr>\n",
       "      <th>2</th>\n",
       "      <td>1942</td>\n",
       "      <td>The Battle of Midway</td>\n",
       "    </tr>\n",
       "    <tr>\n",
       "      <th>3</th>\n",
       "      <td>1942</td>\n",
       "      <td>Prelude to War</td>\n",
       "    </tr>\n",
       "    <tr>\n",
       "      <th>4</th>\n",
       "      <td>1943</td>\n",
       "      <td>WWII: Report from the Aleutians</td>\n",
       "    </tr>\n",
       "    <tr>\n",
       "      <th>5</th>\n",
       "      <td>1943</td>\n",
       "      <td>Undercover: How to Operate Behind Enemy Lines</td>\n",
       "    </tr>\n",
       "  </tbody>\n",
       "</table>\n",
       "</div>"
      ],
      "text/plain": [
       "   Release year                                          Title\n",
       "1          1925              Pioneers: First Women Filmmakers*\n",
       "2          1942                           The Battle of Midway\n",
       "3          1942                                 Prelude to War\n",
       "4          1943                WWII: Report from the Aleutians\n",
       "5          1943  Undercover: How to Operate Behind Enemy Lines"
      ]
     },
     "execution_count": 40,
     "metadata": {},
     "output_type": "execute_result"
    }
   ],
   "source": [
    "a=[]\n",
    "b=[]\n",
    "\n",
    "df=netflix_titles['release_year'].sort_values(ascending=True)[:5].to_frame()\n",
    "\n",
    "for i in df.index:\n",
    "    a.append(netflix_titles['release_year'].iloc[i])   #Using iloc to obtain corresponding values of a column using the value's index.\n",
    "    b.append(netflix_titles['title'].iloc[i])\n",
    "df2=pd.DataFrame(data={'Release year':a,'Title':b},index=[1,2,3,4,5])   #Creating a dataframe from the values obtained.\n",
    "df2"
   ]
  },
  {
   "cell_type": "code",
   "execution_count": 24,
   "metadata": {},
   "outputs": [
    {
     "data": {
      "text/html": [
       "<div>\n",
       "<style scoped>\n",
       "    .dataframe tbody tr th:only-of-type {\n",
       "        vertical-align: middle;\n",
       "    }\n",
       "\n",
       "    .dataframe tbody tr th {\n",
       "        vertical-align: top;\n",
       "    }\n",
       "\n",
       "    .dataframe thead th {\n",
       "        text-align: right;\n",
       "    }\n",
       "</style>\n",
       "<table border=\"1\" class=\"dataframe\">\n",
       "  <thead>\n",
       "    <tr style=\"text-align: right;\">\n",
       "      <th></th>\n",
       "      <th>Release year</th>\n",
       "      <th>Title</th>\n",
       "    </tr>\n",
       "  </thead>\n",
       "  <tbody>\n",
       "    <tr>\n",
       "      <th>1</th>\n",
       "      <td>2021</td>\n",
       "      <td>Night Stalker: The Hunt for a Serial Killer</td>\n",
       "    </tr>\n",
       "    <tr>\n",
       "      <th>2</th>\n",
       "      <td>2021</td>\n",
       "      <td>Charming</td>\n",
       "    </tr>\n",
       "    <tr>\n",
       "      <th>3</th>\n",
       "      <td>2021</td>\n",
       "      <td>Bling Empire</td>\n",
       "    </tr>\n",
       "    <tr>\n",
       "      <th>4</th>\n",
       "      <td>2021</td>\n",
       "      <td>Lupin</td>\n",
       "    </tr>\n",
       "    <tr>\n",
       "      <th>5</th>\n",
       "      <td>2021</td>\n",
       "      <td>Monarca</td>\n",
       "    </tr>\n",
       "  </tbody>\n",
       "</table>\n",
       "</div>"
      ],
      "text/plain": [
       "   Release year                                        Title\n",
       "1          2021  Night Stalker: The Hunt for a Serial Killer\n",
       "2          2021                                     Charming\n",
       "3          2021                                 Bling Empire\n",
       "4          2021                                        Lupin\n",
       "5          2021                                      Monarca"
      ]
     },
     "execution_count": 24,
     "metadata": {},
     "output_type": "execute_result"
    }
   ],
   "source": [
    "c=[]\n",
    "d=[]\n",
    "df=netflix_titles['release_year'].sort_values(ascending=False)[:5].to_frame()\n",
    "for i in df.index:\n",
    "    c.append(netflix_titles['release_year'].iloc[i])\n",
    "    d.append(netflix_titles['title'].iloc[i])\n",
    "df3=pd.DataFrame(data={'Release year':c,'Title':d},index=[1,2,3,4,5])\n",
    "df3"
   ]
  },
  {
   "cell_type": "markdown",
   "metadata": {},
   "source": [
    "## Answering Point 4"
   ]
  },
  {
   "cell_type": "markdown",
   "metadata": {},
   "source": [
    "Netflix focus from a Ratings perspective"
   ]
  },
  {
   "cell_type": "code",
   "execution_count": 25,
   "metadata": {},
   "outputs": [
    {
     "data": {
      "text/plain": [
       "array(['TV-MA', 'R', 'PG-13', 'TV-14', 'TV-PG', 'UR', 'TV-G', 'TV-Y',\n",
       "       'TV-Y7', 'PG', 'G', 'NC-17', 'TV-Y7-FV'], dtype=object)"
      ]
     },
     "execution_count": 25,
     "metadata": {},
     "output_type": "execute_result"
    }
   ],
   "source": [
    "netflix_titles['rating'].unique()"
   ]
  },
  {
   "cell_type": "code",
   "execution_count": 26,
   "metadata": {},
   "outputs": [
    {
     "data": {
      "image/png": "[encoded data removed]",
      "text/plain": [
       "<Figure size 576x432 with 1 Axes>"
      ]
     },
     "metadata": {},
     "output_type": "display_data"
    }
   ],
   "source": [
    "plt.figure(figsize=(8,6))\n",
    "netflix_titles['rating'].value_counts().sort_index().plot(kind='bar')\n",
    "plt.xlabel('Rating')\n",
    "plt.ylabel('No. of Shows')\n",
    "plt.title('Rating of Shows on Netflix');"
   ]
  },
  {
   "cell_type": "markdown",
   "metadata": {},
   "source": [
    "Note: Most of the content on Netflix is for Mature Audiences (TV-MA), followed by TV-14 (Parents strongly cautioned).\n",
    "\n",
    "Kids friendly: 'TV-Y', 'TV-Y7', 'TV-Y7-FV', 'G', 'TV-G', 'PG', 'TV-PG'\n",
    "\n",
    "Teens focused: 'PG-13', 'TV-14'\n",
    "\n",
    "Adults focused: 'R', 'NC-17', 'TV-MA' \n",
    "\n",
    "Unclassified: 'UR'"
   ]
  },
  {
   "cell_type": "code",
   "execution_count": 27,
   "metadata": {},
   "outputs": [],
   "source": [
    "def group_by_rating(rating):\n",
    "    if rating in ['TV-Y', 'TV-Y7', 'TV-Y7-FV', 'G', 'TV-G', 'PG', 'TV-PG']:\n",
    "        new_ratin_group = 'Kids'\n",
    "    elif rating in ['PG-13', 'TV-14']:\n",
    "        new_ratin_group = 'Teens'\n",
    "    elif rating in ['R', 'NC-17', 'TV-MA']:\n",
    "        new_ratin_group = 'Adults'\n",
    "    else:\n",
    "        new_ratin_group = 'Unrated'\n",
    "    return new_ratin_group \n",
    "    \n",
    "netflix_titles['Show_rating'] = netflix_titles['rating'].apply(group_by_rating)"
   ]
  },
  {
   "cell_type": "code",
   "execution_count": 28,
   "metadata": {},
   "outputs": [
    {
     "name": "stdout",
     "output_type": "stream",
     "text": [
      "Show_rating  type   \n",
      "Adults       Movie      2511\n",
      "             TV Show    1020\n",
      "Kids         Movie      1119\n",
      "             TV Show     724\n",
      "Teens        Movie      1658\n",
      "             TV Show     659\n",
      "Unrated      Movie        89\n",
      "             TV Show       7\n",
      "Name: type, dtype: int64\n"
     ]
    },
    {
     "data": {
      "image/png": "[encoded data removed]",
      "text/plain": [
       "<Figure size 864x432 with 1 Axes>"
      ]
     },
     "metadata": {},
     "output_type": "display_data"
    }
   ],
   "source": [
    "print(netflix_titles.groupby('Show_rating').type.value_counts())\n",
    "sns.set_style('whitegrid')\n",
    "plt.figure(figsize=(12,6))\n",
    "sns.countplot(x=netflix_titles['Show_rating'],hue=netflix_titles['type'])\n",
    "plt.xlabel('Content Demographic Focus')\n",
    "plt.ylabel('Number of Shows')\n",
    "plt.title(\"Netflix's Demographic Focus\");"
   ]
  },
  {
   "cell_type": "markdown",
   "metadata": {},
   "source": [
    "Netflix focus from a Genre perspective"
   ]
  },
  {
   "cell_type": "code",
   "execution_count": 29,
   "metadata": {},
   "outputs": [
    {
     "data": {
      "image/png": "[encoded data removed]",
      "text/plain": [
       "<Figure size 576x432 with 1 Axes>"
      ]
     },
     "metadata": {},
     "output_type": "display_data"
    }
   ],
   "source": [
    "plt.figure(figsize=(8,6))\n",
    "netflix_titles['listed_in'].value_counts().head(10).plot(kind='bar')\n",
    "plt.xlabel('Category')\n",
    "plt.ylabel('No. of Shows')\n",
    "plt.title('Top 10 Shows Category-wise on Netflix');"
   ]
  },
  {
   "cell_type": "code",
   "execution_count": 30,
   "metadata": {},
   "outputs": [
    {
     "name": "stdout",
     "output_type": "stream",
     "text": [
      "Documentaries                                       334\n",
      "Stand-Up Comedy                                     321\n",
      "Dramas, International Movies                        320\n",
      "Comedies, Dramas, International Movies              243\n",
      "Dramas, Independent Movies, International Movies    215\n",
      "Kids' TV                                            205\n",
      "Children & Family Movies                            177\n",
      "Documentaries, International Movies                 172\n",
      "Children & Family Movies, Comedies                  169\n",
      "Comedies, International Movies                      161\n",
      "Name: listed_in, dtype: int64\n"
     ]
    }
   ],
   "source": [
    "print(netflix_titles['listed_in'].value_counts()[:10])"
   ]
  },
  {
   "cell_type": "markdown",
   "metadata": {},
   "source": [
    "Top 10 list of Genres above reflect Netflix's focus demgoraphics of Adults."
   ]
  },
  {
   "cell_type": "markdown",
   "metadata": {},
   "source": [
    "## Answering Point 5"
   ]
  },
  {
   "cell_type": "code",
   "execution_count": 31,
   "metadata": {},
   "outputs": [
    {
     "name": "stdout",
     "output_type": "stream",
     "text": [
      "type\n",
      "Movie      99.307978\n",
      "TV Show     1.775934\n",
      "Name: duration, dtype: float64\n",
      "type\n",
      "Movie      312\n",
      "TV Show     16\n",
      "Name: duration, dtype: int64\n",
      "type\n",
      "Movie      3\n",
      "TV Show    1\n",
      "Name: duration, dtype: int64\n"
     ]
    }
   ],
   "source": [
    "#What is the average length of a show on Netflix? - for TV Shows (by Seasons) for Movies (by minutes)\n",
    "\n",
    "ax = netflix_titles.groupby('type')['duration'].mean()\n",
    "ax1 = netflix_titles.groupby('type')['duration'].max()\n",
    "ax2 = netflix_titles.groupby('type')['duration'].min()\n",
    "print(ax)\n",
    "print(ax1)\n",
    "print(ax2)"
   ]
  },
  {
   "cell_type": "markdown",
   "metadata": {},
   "source": [
    "Movie: Min is 3 minutes; Average is 99.3 minutes; Max is 312 minutes.\n",
    "\n",
    "TV Show: Min is 1 season; Average is 1.78 season; Max is 16 seasons."
   ]
  },
  {
   "cell_type": "code",
   "execution_count": 32,
   "metadata": {},
   "outputs": [
    {
     "data": {
      "image/png": "[encoded data removed]",
      "text/plain": [
       "<Figure size 576x432 with 1 Axes>"
      ]
     },
     "metadata": {},
     "output_type": "display_data"
    }
   ],
   "source": [
    "plt.figure(figsize=(8,6))\n",
    "netflix_titles[netflix_titles.type=='Movie']['duration'].plot(kind='hist')\n",
    "plt.ylabel('Number of Movies')\n",
    "plt.xlabel('Duration: Minutes')\n",
    "plt.title('Duration of Movies');"
   ]
  },
  {
   "cell_type": "code",
   "execution_count": 33,
   "metadata": {},
   "outputs": [
    {
     "data": {
      "text/html": [
       "<div>\n",
       "<style scoped>\n",
       "    .dataframe tbody tr th:only-of-type {\n",
       "        vertical-align: middle;\n",
       "    }\n",
       "\n",
       "    .dataframe tbody tr th {\n",
       "        vertical-align: top;\n",
       "    }\n",
       "\n",
       "    .dataframe thead th {\n",
       "        text-align: right;\n",
       "    }\n",
       "</style>\n",
       "<table border=\"1\" class=\"dataframe\">\n",
       "  <thead>\n",
       "    <tr style=\"text-align: right;\">\n",
       "      <th></th>\n",
       "      <th>show_id</th>\n",
       "      <th>type</th>\n",
       "      <th>title</th>\n",
       "      <th>director</th>\n",
       "      <th>cast</th>\n",
       "      <th>country</th>\n",
       "      <th>date_added</th>\n",
       "      <th>release_year</th>\n",
       "      <th>rating</th>\n",
       "      <th>duration</th>\n",
       "      <th>listed_in</th>\n",
       "      <th>description</th>\n",
       "      <th>year</th>\n",
       "      <th>Movie_release_type</th>\n",
       "      <th>Show_rating</th>\n",
       "    </tr>\n",
       "  </thead>\n",
       "  <tbody>\n",
       "    <tr>\n",
       "      <th>957</th>\n",
       "      <td>s958</td>\n",
       "      <td>Movie</td>\n",
       "      <td>Black Mirror: Bandersnatch</td>\n",
       "      <td>Unknown</td>\n",
       "      <td>Fionn Whitehead, Will Poulter, Craig Parkinson...</td>\n",
       "      <td>United States</td>\n",
       "      <td>December 28, 2018</td>\n",
       "      <td>2018</td>\n",
       "      <td>TV-MA</td>\n",
       "      <td>312</td>\n",
       "      <td>Dramas, International Movies, Sci-Fi &amp; Fantasy</td>\n",
       "      <td>In 1984, a young programmer begins to question...</td>\n",
       "      <td>2018</td>\n",
       "      <td>New</td>\n",
       "      <td>Adults</td>\n",
       "    </tr>\n",
       "    <tr>\n",
       "      <th>6850</th>\n",
       "      <td>s6851</td>\n",
       "      <td>Movie</td>\n",
       "      <td>The School of Mischief</td>\n",
       "      <td>Houssam El-Din Mustafa</td>\n",
       "      <td>Suhair El-Babili, Adel Emam, Saeed Saleh, Youn...</td>\n",
       "      <td>Egypt</td>\n",
       "      <td>May 21, 2020</td>\n",
       "      <td>1973</td>\n",
       "      <td>TV-14</td>\n",
       "      <td>253</td>\n",
       "      <td>Comedies, Dramas, International Movies</td>\n",
       "      <td>A high school teacher volunteers to transform ...</td>\n",
       "      <td>2020</td>\n",
       "      <td>Very old</td>\n",
       "      <td>Teens</td>\n",
       "    </tr>\n",
       "    <tr>\n",
       "      <th>4490</th>\n",
       "      <td>s4491</td>\n",
       "      <td>Movie</td>\n",
       "      <td>No Longer kids</td>\n",
       "      <td>Samir Al Asfory</td>\n",
       "      <td>Said Saleh, Hassan Moustafa, Ahmed Zaki, Youne...</td>\n",
       "      <td>Egypt</td>\n",
       "      <td>May 21, 2020</td>\n",
       "      <td>1979</td>\n",
       "      <td>TV-14</td>\n",
       "      <td>237</td>\n",
       "      <td>Comedies, Dramas, International Movies</td>\n",
       "      <td>Hoping to prevent their father from skipping t...</td>\n",
       "      <td>2020</td>\n",
       "      <td>Very old</td>\n",
       "      <td>Teens</td>\n",
       "    </tr>\n",
       "  </tbody>\n",
       "</table>\n",
       "</div>"
      ],
      "text/plain": [
       "     show_id   type                       title                director  \\\n",
       "957     s958  Movie  Black Mirror: Bandersnatch                 Unknown   \n",
       "6850   s6851  Movie      The School of Mischief  Houssam El-Din Mustafa   \n",
       "4490   s4491  Movie              No Longer kids         Samir Al Asfory   \n",
       "\n",
       "                                                   cast        country  \\\n",
       "957   Fionn Whitehead, Will Poulter, Craig Parkinson...  United States   \n",
       "6850  Suhair El-Babili, Adel Emam, Saeed Saleh, Youn...          Egypt   \n",
       "4490  Said Saleh, Hassan Moustafa, Ahmed Zaki, Youne...          Egypt   \n",
       "\n",
       "             date_added  release_year rating  duration  \\\n",
       "957   December 28, 2018          2018  TV-MA       312   \n",
       "6850       May 21, 2020          1973  TV-14       253   \n",
       "4490       May 21, 2020          1979  TV-14       237   \n",
       "\n",
       "                                           listed_in  \\\n",
       "957   Dramas, International Movies, Sci-Fi & Fantasy   \n",
       "6850          Comedies, Dramas, International Movies   \n",
       "4490          Comedies, Dramas, International Movies   \n",
       "\n",
       "                                            description   year  \\\n",
       "957   In 1984, a young programmer begins to question...   2018   \n",
       "6850  A high school teacher volunteers to transform ...   2020   \n",
       "4490  Hoping to prevent their father from skipping t...   2020   \n",
       "\n",
       "     Movie_release_type Show_rating  \n",
       "957                 New      Adults  \n",
       "6850           Very old       Teens  \n",
       "4490           Very old       Teens  "
      ]
     },
     "execution_count": 33,
     "metadata": {},
     "output_type": "execute_result"
    }
   ],
   "source": [
    "netflix_titles[netflix_titles.type=='Movie'].sort_values(by='duration', ascending=False).head(3)"
   ]
  },
  {
   "cell_type": "markdown",
   "metadata": {},
   "source": [
    "Longest Movie is Black Mirror: Bandersnatch"
   ]
  },
  {
   "cell_type": "code",
   "execution_count": 34,
   "metadata": {},
   "outputs": [
    {
     "data": {
      "image/png": "[encoded data removed]",
      "text/plain": [
       "<Figure size 576x432 with 1 Axes>"
      ]
     },
     "metadata": {},
     "output_type": "display_data"
    }
   ],
   "source": [
    "plt.figure(figsize=(8,6))\n",
    "netflix_titles[netflix_titles.type=='TV Show']['duration'].plot(kind='hist')\n",
    "plt.ylabel('Number of TV Shows')\n",
    "plt.xlabel('Number of Seasons')\n",
    "plt.title('Duration of TV Shows');"
   ]
  },
  {
   "cell_type": "markdown",
   "metadata": {},
   "source": [
    "Most of the TV Shows on Netflix have 1 to 2 Seasons"
   ]
  },
  {
   "cell_type": "code",
   "execution_count": 35,
   "metadata": {},
   "outputs": [
    {
     "data": {
      "text/html": [
       "<div>\n",
       "<style scoped>\n",
       "    .dataframe tbody tr th:only-of-type {\n",
       "        vertical-align: middle;\n",
       "    }\n",
       "\n",
       "    .dataframe tbody tr th {\n",
       "        vertical-align: top;\n",
       "    }\n",
       "\n",
       "    .dataframe thead th {\n",
       "        text-align: right;\n",
       "    }\n",
       "</style>\n",
       "<table border=\"1\" class=\"dataframe\">\n",
       "  <thead>\n",
       "    <tr style=\"text-align: right;\">\n",
       "      <th></th>\n",
       "      <th>show_id</th>\n",
       "      <th>type</th>\n",
       "      <th>title</th>\n",
       "      <th>director</th>\n",
       "      <th>cast</th>\n",
       "      <th>country</th>\n",
       "      <th>date_added</th>\n",
       "      <th>release_year</th>\n",
       "      <th>rating</th>\n",
       "      <th>duration</th>\n",
       "      <th>listed_in</th>\n",
       "      <th>description</th>\n",
       "      <th>year</th>\n",
       "      <th>Movie_release_type</th>\n",
       "      <th>Show_rating</th>\n",
       "    </tr>\n",
       "  </thead>\n",
       "  <tbody>\n",
       "    <tr>\n",
       "      <th>2538</th>\n",
       "      <td>s2539</td>\n",
       "      <td>TV Show</td>\n",
       "      <td>Grey's Anatomy</td>\n",
       "      <td>Unknown</td>\n",
       "      <td>Ellen Pompeo, Sandra Oh, Katherine Heigl, Just...</td>\n",
       "      <td>United States</td>\n",
       "      <td>May 9, 2020</td>\n",
       "      <td>2019</td>\n",
       "      <td>TV-14</td>\n",
       "      <td>16</td>\n",
       "      <td>Romantic TV Shows, TV Dramas</td>\n",
       "      <td>Intern (and eventual resident) Meredith Grey f...</td>\n",
       "      <td>2020</td>\n",
       "      <td>New</td>\n",
       "      <td>Teens</td>\n",
       "    </tr>\n",
       "    <tr>\n",
       "      <th>4438</th>\n",
       "      <td>s4439</td>\n",
       "      <td>TV Show</td>\n",
       "      <td>NCIS</td>\n",
       "      <td>Unknown</td>\n",
       "      <td>Mark Harmon, Michael Weatherly, Pauley Perrett...</td>\n",
       "      <td>United States</td>\n",
       "      <td>July 1, 2018</td>\n",
       "      <td>2017</td>\n",
       "      <td>TV-14</td>\n",
       "      <td>15</td>\n",
       "      <td>Crime TV Shows, TV Dramas, TV Mysteries</td>\n",
       "      <td>Follow the quirky agents of the NCIS – the Nav...</td>\n",
       "      <td>2018</td>\n",
       "      <td>New</td>\n",
       "      <td>Teens</td>\n",
       "    </tr>\n",
       "    <tr>\n",
       "      <th>5912</th>\n",
       "      <td>s5913</td>\n",
       "      <td>TV Show</td>\n",
       "      <td>Supernatural</td>\n",
       "      <td>Phil Sgriccia</td>\n",
       "      <td>Jared Padalecki, Jensen Ackles, Mark Sheppard,...</td>\n",
       "      <td>United States</td>\n",
       "      <td>June 5, 2020</td>\n",
       "      <td>2019</td>\n",
       "      <td>TV-14</td>\n",
       "      <td>15</td>\n",
       "      <td>Classic &amp; Cult TV, TV Action &amp; Adventure, TV H...</td>\n",
       "      <td>Siblings Dean and Sam crisscross the country, ...</td>\n",
       "      <td>2020</td>\n",
       "      <td>New</td>\n",
       "      <td>Teens</td>\n",
       "    </tr>\n",
       "  </tbody>\n",
       "</table>\n",
       "</div>"
      ],
      "text/plain": [
       "     show_id     type           title       director  \\\n",
       "2538   s2539  TV Show  Grey's Anatomy        Unknown   \n",
       "4438   s4439  TV Show            NCIS        Unknown   \n",
       "5912   s5913  TV Show    Supernatural  Phil Sgriccia   \n",
       "\n",
       "                                                   cast        country  \\\n",
       "2538  Ellen Pompeo, Sandra Oh, Katherine Heigl, Just...  United States   \n",
       "4438  Mark Harmon, Michael Weatherly, Pauley Perrett...  United States   \n",
       "5912  Jared Padalecki, Jensen Ackles, Mark Sheppard,...  United States   \n",
       "\n",
       "        date_added  release_year rating  duration  \\\n",
       "2538   May 9, 2020          2019  TV-14        16   \n",
       "4438  July 1, 2018          2017  TV-14        15   \n",
       "5912  June 5, 2020          2019  TV-14        15   \n",
       "\n",
       "                                              listed_in  \\\n",
       "2538                       Romantic TV Shows, TV Dramas   \n",
       "4438            Crime TV Shows, TV Dramas, TV Mysteries   \n",
       "5912  Classic & Cult TV, TV Action & Adventure, TV H...   \n",
       "\n",
       "                                            description   year  \\\n",
       "2538  Intern (and eventual resident) Meredith Grey f...   2020   \n",
       "4438  Follow the quirky agents of the NCIS – the Nav...   2018   \n",
       "5912  Siblings Dean and Sam crisscross the country, ...   2020   \n",
       "\n",
       "     Movie_release_type Show_rating  \n",
       "2538                New       Teens  \n",
       "4438                New       Teens  \n",
       "5912                New       Teens  "
      ]
     },
     "execution_count": 35,
     "metadata": {},
     "output_type": "execute_result"
    }
   ],
   "source": [
    "netflix_titles[netflix_titles.type=='TV Show'].sort_values(by='duration', ascending=False).head(3)"
   ]
  },
  {
   "cell_type": "markdown",
   "metadata": {},
   "source": [
    "Longest Series on Netflix is Grey's Anatomy"
   ]
  },
  {
   "cell_type": "markdown",
   "metadata": {},
   "source": [
    "## Answering point 6"
   ]
  },
  {
   "cell_type": "code",
   "execution_count": 36,
   "metadata": {},
   "outputs": [
    {
     "data": {
      "image/png": "[encoded data removed]",
      "text/plain": [
       "<Figure size 576x432 with 1 Axes>"
      ]
     },
     "metadata": {},
     "output_type": "display_data"
    }
   ],
   "source": [
    "#Where does most of Netflix's show come from?\n",
    "\n",
    "plt.figure(figsize=(8,6))\n",
    "netflix_titles['country'].value_counts().head(10).plot(kind='bar')\n",
    "plt.xlabel('Country')\n",
    "plt.ylabel('No. of Shows')\n",
    "plt.title('Netflix - Top10 Countrywise Content');"
   ]
  },
  {
   "cell_type": "code",
   "execution_count": 37,
   "metadata": {},
   "outputs": [
    {
     "name": "stdout",
     "output_type": "stream",
     "text": [
      "Top 10 Movie Creators:\n",
      "country\n",
      "United States     2100\n",
      "India              883\n",
      "United Kingdom     341\n",
      "Unknown            230\n",
      "Canada             175\n",
      "France             137\n",
      "Spain              119\n",
      "Egypt               93\n",
      "Mexico              79\n",
      "Turkey              78\n",
      "Name: country, dtype: int64\n",
      "\n",
      "\n",
      "Top 10 TV Show Creators:\n",
      "country\n",
      "United States     783\n",
      "Unknown           277\n",
      "United Kingdom    236\n",
      "Japan             162\n",
      "South Korea       152\n",
      "Canada             84\n",
      "India              73\n",
      "Taiwan             70\n",
      "France             59\n",
      "Australia          52\n",
      "Name: country, dtype: int64\n"
     ]
    }
   ],
   "source": [
    "print('Top 10 Movie Creators:')\n",
    "print(netflix_titles.groupby('type').country.value_counts()['Movie'][:10])\n",
    "print('\\n')\n",
    "print('Top 10 TV Show Creators:')\n",
    "print(netflix_titles.groupby('type').country.value_counts()['TV Show'][:10])"
   ]
  },
  {
   "cell_type": "markdown",
   "metadata": {},
   "source": [
    "Top 5 countries when it comes to availability and creation of movies:- USA, India, UK, Cananda, France\n",
    "\n",
    "Top 5 countries when it comes to availability and creation of TV Shows:- USA, UK, Japan, South Korea, Canada\n",
    "\n",
    "The above could be an indicator to Netflix's target geography. Most users are possibly from North America and English speaking Europe"
   ]
  },
  {
   "cell_type": "markdown",
   "metadata": {},
   "source": [
    "## Answering point 7"
   ]
  },
  {
   "cell_type": "code",
   "execution_count": 38,
   "metadata": {},
   "outputs": [
    {
     "data": {
      "image/png": "[encoded data removed]",
      "text/plain": [
       "<Figure size 432x288 with 1 Axes>"
      ]
     },
     "metadata": {},
     "output_type": "display_data"
    }
   ],
   "source": [
    "netflix_titles.groupby('type').director.value_counts()['Movie'][1:10].plot(kind='bar') #removed unknowns\n",
    "plt.ylabel('Number of Movies')\n",
    "plt.xlabel('Name of Directors')\n",
    "plt.title('Top 10 Movie Directors (highest no. of movies on Netflix)');"
   ]
  },
  {
   "cell_type": "markdown",
   "metadata": {},
   "source": [
    "Movie director with most number of Movies on Netflix: Raul Campos, Jan Suter"
   ]
  },
  {
   "cell_type": "code",
   "execution_count": 39,
   "metadata": {},
   "outputs": [
    {
     "data": {
      "image/png": "[encoded data removed]",
      "text/plain": [
       "<Figure size 432x288 with 1 Axes>"
      ]
     },
     "metadata": {},
     "output_type": "display_data"
    }
   ],
   "source": [
    "netflix_titles.groupby('type').director.value_counts()['TV Show'][1:10].plot(kind='bar') #removed unknowns\n",
    "plt.ylabel('Number of TV Shows')\n",
    "plt.xlabel('Name of Directors')\n",
    "plt.title('Top 10 TV Show directors (highest no. of TV Shows on Netflix)');"
   ]
  },
  {
   "cell_type": "markdown",
   "metadata": {},
   "source": [
    "TV Show director with most number of TV Shows on Netflix: Alastair Fothergill"
   ]
  }
 ],
 "metadata": {
  "kernelspec": {
   "display_name": "Python 3",
   "language": "python",
   "name": "python3"
  },
  "language_info": {
   "codemirror_mode": {
    "name": "ipython",
    "version": 3
   },
   "file_extension": ".py",
   "mimetype": "text/x-python",
   "name": "python",
   "nbconvert_exporter": "python",
   "pygments_lexer": "ipython3",
   "version": "3.8.5"
  }
 },
 "nbformat": 4,
 "nbformat_minor": 4
}
